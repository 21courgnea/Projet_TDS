{
 "cells": [
  {
   "cell_type": "markdown",
   "metadata": {
    "id": "7CaFr0DuDiI-"
   },
   "source": [
    "# TP détection de fréquence / filtrage\n",
    "\n",
    "Dans ce données, on étudie les variations saisonnières et journalières de la température en un point de la surface de la terre. Les données proviennent de la base Météo France Meteonet disponible, avec leur toolbox Python ici : http://meteonet.umr-cnrm.fr/. On a extrait de la base la mesure de température provenant d'une station située dans le quart Nord-Ouest de la France sur la période 2016-2018. Le fichier correspondant est disponible ici : http://cas.mines-paristech.fr/~dimeglio/temperature.csv. \n",
    "\n",
    "Les objectifs du TP sont les suivants : \n",
    "\n",
    " - Afficher et conditionner les données pour l'analyse\n",
    " - Faire apparaître les principales composantes spectrales du signal\n",
    " - Séparer les variations saisonnières des variations journalières"
   ]
  },
  {
   "cell_type": "code",
   "execution_count": 3,
   "metadata": {
    "collapsed": true,
    "executionInfo": {
     "elapsed": 772,
     "status": "ok",
     "timestamp": 1648023691377,
     "user": {
      "displayName": "Joana Frontera",
      "photoUrl": "https://lh3.googleusercontent.com/a-/AOh14GguJYWZ8J093kfeDJs2aBZdFnEj6zgfFBM5GQb5WQ=s64",
      "userId": "02575995191767123543"
     },
     "user_tz": -60
    },
    "id": "p_F-OpB1DiJG"
   },
   "outputs": [],
   "source": [
    "import pandas as pd\n",
    "import numpy as np\n",
    "import matplotlib.pyplot as plt\n",
    "import scipy.signal as sig\n",
    "%matplotlib inline"
   ]
  },
  {
   "cell_type": "markdown",
   "metadata": {
    "id": "0X3yTaXYDiJJ"
   },
   "source": [
    "#### (1) Importer les données du fichier \\*.csv à l'aide de pandas et afficher les premières lignes du tableau"
   ]
  },
  {
   "cell_type": "code",
   "execution_count": 5,
   "metadata": {
    "colab": {
     "base_uri": "https://localhost:8080/",
     "height": 206
    },
    "collapsed": false,
    "executionInfo": {
     "elapsed": 287,
     "status": "ok",
     "timestamp": 1648023745149,
     "user": {
      "displayName": "Joana Frontera",
      "photoUrl": "https://lh3.googleusercontent.com/a-/AOh14GguJYWZ8J093kfeDJs2aBZdFnEj6zgfFBM5GQb5WQ=s64",
      "userId": "02575995191767123543"
     },
     "user_tz": -60
    },
    "id": "1uMIIzXQDiJJ",
    "outputId": "ca88c04b-c59a-4b9c-a108-1b31f4569eb0"
   },
   "outputs": [
    {
     "data": {
      "text/html": [
       "\n",
       "  <div id=\"df-76a27653-bdaf-4231-a67b-625a264b02ed\">\n",
       "    <div class=\"colab-df-container\">\n",
       "      <div>\n",
       "<style scoped>\n",
       "    .dataframe tbody tr th:only-of-type {\n",
       "        vertical-align: middle;\n",
       "    }\n",
       "\n",
       "    .dataframe tbody tr th {\n",
       "        vertical-align: top;\n",
       "    }\n",
       "\n",
       "    .dataframe thead th {\n",
       "        text-align: right;\n",
       "    }\n",
       "</style>\n",
       "<table border=\"1\" class=\"dataframe\">\n",
       "  <thead>\n",
       "    <tr style=\"text-align: right;\">\n",
       "      <th></th>\n",
       "      <th>NW2016</th>\n",
       "      <th>NW2017</th>\n",
       "      <th>NW2018</th>\n",
       "    </tr>\n",
       "  </thead>\n",
       "  <tbody>\n",
       "    <tr>\n",
       "      <th>8741</th>\n",
       "      <td>269.95</td>\n",
       "      <td>285.65</td>\n",
       "      <td>281.85</td>\n",
       "    </tr>\n",
       "    <tr>\n",
       "      <th>8742</th>\n",
       "      <td>269.35</td>\n",
       "      <td>285.55</td>\n",
       "      <td>281.95</td>\n",
       "    </tr>\n",
       "    <tr>\n",
       "      <th>8743</th>\n",
       "      <td>268.65</td>\n",
       "      <td>284.65</td>\n",
       "      <td>281.95</td>\n",
       "    </tr>\n",
       "    <tr>\n",
       "      <th>8744</th>\n",
       "      <td>269.45</td>\n",
       "      <td>283.85</td>\n",
       "      <td>282.05</td>\n",
       "    </tr>\n",
       "    <tr>\n",
       "      <th>8745</th>\n",
       "      <td>268.55</td>\n",
       "      <td>283.45</td>\n",
       "      <td>282.15</td>\n",
       "    </tr>\n",
       "  </tbody>\n",
       "</table>\n",
       "</div>\n",
       "      <button class=\"colab-df-convert\" onclick=\"convertToInteractive('df-76a27653-bdaf-4231-a67b-625a264b02ed')\"\n",
       "              title=\"Convert this dataframe to an interactive table.\"\n",
       "              style=\"display:none;\">\n",
       "        \n",
       "  <svg xmlns=\"http://www.w3.org/2000/svg\" height=\"24px\"viewBox=\"0 0 24 24\"\n",
       "       width=\"24px\">\n",
       "    <path d=\"M0 0h24v24H0V0z\" fill=\"none\"/>\n",
       "    <path d=\"M18.56 5.44l.94 2.06.94-2.06 2.06-.94-2.06-.94-.94-2.06-.94 2.06-2.06.94zm-11 1L8.5 8.5l.94-2.06 2.06-.94-2.06-.94L8.5 2.5l-.94 2.06-2.06.94zm10 10l.94 2.06.94-2.06 2.06-.94-2.06-.94-.94-2.06-.94 2.06-2.06.94z\"/><path d=\"M17.41 7.96l-1.37-1.37c-.4-.4-.92-.59-1.43-.59-.52 0-1.04.2-1.43.59L10.3 9.45l-7.72 7.72c-.78.78-.78 2.05 0 2.83L4 21.41c.39.39.9.59 1.41.59.51 0 1.02-.2 1.41-.59l7.78-7.78 2.81-2.81c.8-.78.8-2.07 0-2.86zM5.41 20L4 18.59l7.72-7.72 1.47 1.35L5.41 20z\"/>\n",
       "  </svg>\n",
       "      </button>\n",
       "      \n",
       "  <style>\n",
       "    .colab-df-container {\n",
       "      display:flex;\n",
       "      flex-wrap:wrap;\n",
       "      gap: 12px;\n",
       "    }\n",
       "\n",
       "    .colab-df-convert {\n",
       "      background-color: #E8F0FE;\n",
       "      border: none;\n",
       "      border-radius: 50%;\n",
       "      cursor: pointer;\n",
       "      display: none;\n",
       "      fill: #1967D2;\n",
       "      height: 32px;\n",
       "      padding: 0 0 0 0;\n",
       "      width: 32px;\n",
       "    }\n",
       "\n",
       "    .colab-df-convert:hover {\n",
       "      background-color: #E2EBFA;\n",
       "      box-shadow: 0px 1px 2px rgba(60, 64, 67, 0.3), 0px 1px 3px 1px rgba(60, 64, 67, 0.15);\n",
       "      fill: #174EA6;\n",
       "    }\n",
       "\n",
       "    [theme=dark] .colab-df-convert {\n",
       "      background-color: #3B4455;\n",
       "      fill: #D2E3FC;\n",
       "    }\n",
       "\n",
       "    [theme=dark] .colab-df-convert:hover {\n",
       "      background-color: #434B5C;\n",
       "      box-shadow: 0px 1px 3px 1px rgba(0, 0, 0, 0.15);\n",
       "      filter: drop-shadow(0px 1px 2px rgba(0, 0, 0, 0.3));\n",
       "      fill: #FFFFFF;\n",
       "    }\n",
       "  </style>\n",
       "\n",
       "      <script>\n",
       "        const buttonEl =\n",
       "          document.querySelector('#df-76a27653-bdaf-4231-a67b-625a264b02ed button.colab-df-convert');\n",
       "        buttonEl.style.display =\n",
       "          google.colab.kernel.accessAllowed ? 'block' : 'none';\n",
       "\n",
       "        async function convertToInteractive(key) {\n",
       "          const element = document.querySelector('#df-76a27653-bdaf-4231-a67b-625a264b02ed');\n",
       "          const dataTable =\n",
       "            await google.colab.kernel.invokeFunction('convertToInteractive',\n",
       "                                                     [key], {});\n",
       "          if (!dataTable) return;\n",
       "\n",
       "          const docLinkHtml = 'Like what you see? Visit the ' +\n",
       "            '<a target=\"_blank\" href=https://colab.research.google.com/notebooks/data_table.ipynb>data table notebook</a>'\n",
       "            + ' to learn more about interactive tables.';\n",
       "          element.innerHTML = '';\n",
       "          dataTable['output_type'] = 'display_data';\n",
       "          await google.colab.output.renderOutput(dataTable, element);\n",
       "          const docLink = document.createElement('div');\n",
       "          docLink.innerHTML = docLinkHtml;\n",
       "          element.appendChild(docLink);\n",
       "        }\n",
       "      </script>\n",
       "    </div>\n",
       "  </div>\n",
       "  "
      ],
      "text/plain": [
       "      NW2016  NW2017  NW2018\n",
       "8741  269.95  285.65  281.85\n",
       "8742  269.35  285.55  281.95\n",
       "8743  268.65  284.65  281.95\n",
       "8744  269.45  283.85  282.05\n",
       "8745  268.55  283.45  282.15"
      ]
     },
     "execution_count": 5,
     "metadata": {},
     "output_type": "execute_result"
    }
   ],
   "source": [
    "data = pd.read_csv( 'temperature.csv' )\n",
    "data.tail()"
   ]
  },
  {
   "cell_type": "markdown",
   "metadata": {
    "id": "W8UC5UmpDiJM"
   },
   "source": [
    "#### (2) Avant d'analyser les données, il convient de vérifier leur qualité. Afficher les lignes du tableau où il manque éventuellement des valeurs, à l'aide des méthodes DataFrame.isna() et .any(). Remplacer les données correspondantes par des valeurs nulles, ou toute autre méthode d'interpolation vous paraissant pertinente. "
   ]
  },
  {
   "cell_type": "code",
   "execution_count": 12,
   "metadata": {
    "collapsed": true,
    "executionInfo": {
     "elapsed": 245,
     "status": "ok",
     "timestamp": 1648024036331,
     "user": {
      "displayName": "Joana Frontera",
      "photoUrl": "https://lh3.googleusercontent.com/a-/AOh14GguJYWZ8J093kfeDJs2aBZdFnEj6zgfFBM5GQb5WQ=s64",
      "userId": "02575995191767123543"
     },
     "user_tz": -60
    },
    "id": "XSEO6C5g4cTP"
   },
   "outputs": [],
   "source": [
    "echantillons = data['NW2016']"
   ]
  },
  {
   "cell_type": "code",
   "execution_count": 14,
   "metadata": {
    "colab": {
     "base_uri": "https://localhost:8080/"
    },
    "collapsed": false,
    "executionInfo": {
     "elapsed": 225,
     "status": "ok",
     "timestamp": 1648024056578,
     "user": {
      "displayName": "Joana Frontera",
      "photoUrl": "https://lh3.googleusercontent.com/a-/AOh14GguJYWZ8J093kfeDJs2aBZdFnEj6zgfFBM5GQb5WQ=s64",
      "userId": "02575995191767123543"
     },
     "user_tz": -60
    },
    "id": "SuMoSf3j4zlB",
    "outputId": "5238c5b4-924d-41c7-aa3e-d4ff5455bae9"
   },
   "outputs": [
    {
     "data": {
      "text/plain": [
       "290.55"
      ]
     },
     "execution_count": 14,
     "metadata": {},
     "output_type": "execute_result"
    }
   ],
   "source": [
    "echantillons[2672]"
   ]
  },
  {
   "cell_type": "code",
   "execution_count": 7,
   "metadata": {
    "colab": {
     "base_uri": "https://localhost:8080/"
    },
    "collapsed": false,
    "executionInfo": {
     "elapsed": 204,
     "status": "ok",
     "timestamp": 1648023961854,
     "user": {
      "displayName": "Joana Frontera",
      "photoUrl": "https://lh3.googleusercontent.com/a-/AOh14GguJYWZ8J093kfeDJs2aBZdFnEj6zgfFBM5GQb5WQ=s64",
      "userId": "02575995191767123543"
     },
     "user_tz": -60
    },
    "id": "P55zFfVEDiJM",
    "outputId": "67bae621-f32d-47d3-fa6b-4c631888b416"
   },
   "outputs": [
    {
     "name": "stdout",
     "output_type": "stream",
     "text": [
      "      NW2016  NW2017  NW2018\n",
      "2673     NaN  284.75  293.15\n",
      "4010  287.65  283.75     NaN\n",
      "5066     NaN  285.95  290.55\n",
      "6804     NaN  290.45  293.75\n",
      "      NW2016  NW2017  NW2018\n",
      "2673  290.55  284.75  293.15\n",
      "4010  287.65  283.75  284.45\n",
      "5066  292.75  285.95  290.55\n",
      "6804  278.25  290.45  293.75\n"
     ]
    }
   ],
   "source": [
    "# Créer une colonne de booléens valant True pour chaque ligne où il manque une donnée\n",
    "idx_na = data.isna().any(axis=1)\n",
    "# Afficher les lignes du tableau correspondantes\n",
    "print(data[idx_na])\n",
    "# Remplacer les valeurs manquantes par des 0\n",
    "dataClean = data.fillna(0)\n",
    "# Alternative= remplacer les valeurs manquante par une interpolation à l'ordre 0\n",
    "dataClean = data.fillna(method = 'ffill') #  will propagate last valid observation forward\n",
    "# Vérifier le résultat\n",
    "print(dataClean[idx_na])"
   ]
  },
  {
   "cell_type": "markdown",
   "metadata": {
    "id": "w7V967qzDiJO"
   },
   "source": [
    "#### (3) Les données ont été échantillonées avec un pas d'une heure. Afficher la courbe décrivant l'évolution de la température en degrés Celcius au cours du temps pour la période 2016-2018"
   ]
  },
  {
   "cell_type": "code",
   "execution_count": 15,
   "metadata": {
    "colab": {
     "base_uri": "https://localhost:8080/",
     "height": 282
    },
    "collapsed": false,
    "executionInfo": {
     "elapsed": 259,
     "status": "ok",
     "timestamp": 1648024211977,
     "user": {
      "displayName": "Joana Frontera",
      "photoUrl": "https://lh3.googleusercontent.com/a-/AOh14GguJYWZ8J093kfeDJs2aBZdFnEj6zgfFBM5GQb5WQ=s64",
      "userId": "02575995191767123543"
     },
     "user_tz": -60
    },
    "id": "jBVsWogfDiJO",
    "outputId": "107ae6a2-cf63-4f80-e052-002ea9e021fa"
   },
   "outputs": [
    {
     "data": {
      "text/plain": [
       "[<matplotlib.lines.Line2D at 0x7f21864342d0>]"
      ]
     },
     "execution_count": 15,
     "metadata": {},
     "output_type": "execute_result"
    },
    {
     "data": {
      "image/png": "[encoded data removed]",
      "text/plain": [
       "<Figure size 432x288 with 1 Axes>"
      ]
     },
     "metadata": {
      "needs_background": "light"
     },
     "output_type": "display_data"
    }
   ],
   "source": [
    "# On choisit d'exprimer le pas d'échantillonage en jour. \n",
    "#Il faudra juste faire attention au moment d'interpréter les résultats de la fft, par exemple\n",
    "dt = 1 / 24 \n",
    "L = dataClean.shape[0]\n",
    "t = np.arange(0,3*L*dt,dt)\n",
    "y = dataClean.values.reshape(3 * L, order = 'F') #the first index changing fastest, and the last index changing slowest. \n",
    "plt.plot(t, y - 273.15)"
   ]
  },
  {
   "cell_type": "markdown",
   "metadata": {
    "id": "WQI9JCJMDiJR"
   },
   "source": [
    "Soit $y$ un signal discret de taille $N$ et $z$ le signal centré en 0 \n",
    "$$z[k] = y[k] - \\frac{1}{N}\\sum\\limits_{n = 0}^{N-1} y[n]$$\n",
    "#### (4) Montrer qu'ils ont la même TFD, excepté en le premier coefficient qui vaut 0 pour z.\n",
    "\n",
    "Notons M la moyenne du signal $y$, i.e. $M = \\frac{1}{N}\\sum\\limits_{n = 0}^{N-1} y[n]$. On a\n",
    "\\begin{align}\n",
    "Z_k &= \\sum_{n=0}^{N-1} z[n] e^{-\\frac{2ink\\pi}{N}}\\\\\n",
    "          &= \\sum_{n=0}^{N-1} y[n] e^{-\\frac{2ink\\pi}{N}} - M\\sum_{n=0}^{N-1}e^{-\\frac{2ink\\pi}{N}}\n",
    "\\end{align}\n",
    "Comme somme d'une série géométrique de raison $e^{-\\frac{2ik\\pi}{N}}$, le dernier vaut, si $k \\neq 0$\n",
    "$$\\frac{1-e^{-\\frac{2iNk\\pi}{N}}}{1-e^{-\\frac{2ik\\pi}{N}}} = 0$$ et vaut $N$ sinon, d'où le résultat.\n",
    "\n",
    "#### (5) Constuire une fonction calculant et affichant les échantillons du spectre continu d'un signal lui-même échantilloné. On pensera à centrer le signal en 0, à la lumière de la remarque précédente. Préciser quelles hypothèses sur le signal sont nécessaires pour effectuer le lien entre TFD du signal discret et spectre du signal continu."
   ]
  },
  {
   "cell_type": "code",
   "execution_count": 16,
   "metadata": {
    "collapsed": true,
    "executionInfo": {
     "elapsed": 285,
     "status": "ok",
     "timestamp": 1648025149266,
     "user": {
      "displayName": "Joana Frontera",
      "photoUrl": "https://lh3.googleusercontent.com/a-/AOh14GguJYWZ8J093kfeDJs2aBZdFnEj6zgfFBM5GQb5WQ=s64",
      "userId": "02575995191767123543"
     },
     "user_tz": -60
    },
    "id": "rMJA9V6HDiJS"
   },
   "outputs": [],
   "source": [
    "def myFFT(y, dt, plot = False):\n",
    "    \"\"\"\n",
    "    Computes and plots the samples of the Fourier Transform of a signal\n",
    "    sampled with a constant time step dt as a function of the continuous\n",
    "    frequencies\n",
    "\n",
    "    :param y: signal to be analyzed\n",
    "    :param dt: sampling time step of the signal, in seconds\n",
    "    :param plot: flag determining whether the function plots \n",
    "    the spectrum or not\n",
    "    :type y: Numpy array\n",
    "    :type dt: float\n",
    "\n",
    "    :return: vector of continuous frequencies (in rad/s), Fast Fourier Transform of the signal y\n",
    "    :rtype: Numpy arrays\n",
    "    \"\"\"\n",
    "    \n",
    "    N = len(y)\n",
    "    freq = np.linspace(0,2*np.pi*(N-1)/N/dt,N)\n",
    "    Y = np.fft.fft(y-np.mean(y))\n",
    "    if plot:\n",
    "        plt.plot(freq,np.abs(Y))\n",
    "        plt.show()\n",
    "    return freq, Y"
   ]
  },
  {
   "cell_type": "markdown",
   "metadata": {
    "id": "QMUVN0QvDiJV"
   },
   "source": [
    "#### (6) Afficher le spectre du signal de température. A quelles périodes correspondent les deux premiers pics clairement visibles ? Cela correspond-il à votre intuition sur le signal physique considéré ? A quoi correspondent les 3e et 4e pics ? Les 4 derniers ? "
   ]
  },
  {
   "cell_type": "code",
   "execution_count": 17,
   "metadata": {
    "colab": {
     "base_uri": "https://localhost:8080/",
     "height": 265
    },
    "collapsed": false,
    "executionInfo": {
     "elapsed": 532,
     "status": "ok",
     "timestamp": 1648025642610,
     "user": {
      "displayName": "Joana Frontera",
      "photoUrl": "https://lh3.googleusercontent.com/a-/AOh14GguJYWZ8J093kfeDJs2aBZdFnEj6zgfFBM5GQb5WQ=s64",
      "userId": "02575995191767123543"
     },
     "user_tz": -60
    },
    "id": "4rIfkt5-DiJW",
    "outputId": "13f04aee-fc23-4a04-e23d-bc222404be0d"
   },
   "outputs": [
    {
     "data": {
      "image/png": "[encoded data removed]",
      "text/plain": [
       "<Figure size 432x288 with 1 Axes>"
      ]
     },
     "metadata": {
      "needs_background": "light"
     },
     "output_type": "display_data"
    }
   ],
   "source": [
    "freq, Y = myFFT(y, dt, True)"
   ]
  },
  {
   "cell_type": "markdown",
   "metadata": {
    "id": "KAG71UeYjhaR"
   },
   "source": [
    "Les deux premiers pics correspondent à des périodes d'une année et d'un jour, respectivement. Les deux suivants aux harmoniques de la période d'un jour. Les pics de droite correspondent aux fréquences négatives, périodisées. Ils sont symétriques des pics de gauche car le signal est réel."
   ]
  },
  {
   "cell_type": "markdown",
   "metadata": {
    "id": "fYtjQBciDiJY"
   },
   "source": [
    "#### (7) On va maintenant extraire la partie basse fréquence, correspondant aux variations saisonnières, de la partie haute fréquence du signal, à l'aide d'un filtre passe-bas et d'un filtre passe-haut. Où faut-il choisir la pulsation de coupure des filtres ?\n",
    "\n",
    "On va choisir $ \\frac{2\\pi}{\\text{1 an}} < \\omega_c < \\frac{2\\pi}{\\text{1 jour}}$"
   ]
  },
  {
   "cell_type": "markdown",
   "metadata": {
    "id": "EmS_iGe7DiJY"
   },
   "source": [
    "#### (8) On va utiliser pour cela un filtre tout fait de la bibliothèque scipy.signal : le filtre de Butterworth. Construire un filtre passe-bas et un filtre passe-haut, tous les deux d'ordre 2, et les appliquer au signal à l'aide des fonctions sig.butter et sig.filter. Construire une fonction permettant, étant donné un signal, son pas d'échantillonage et une fréquence de coupure en Hz, et un ordre d'appliquer ce filtre, et d'afficher le résultat"
   ]
  },
  {
   "cell_type": "code",
   "execution_count": 18,
   "metadata": {
    "collapsed": true,
    "executionInfo": {
     "elapsed": 233,
     "status": "ok",
     "timestamp": 1648027526371,
     "user": {
      "displayName": "Joana Frontera",
      "photoUrl": "https://lh3.googleusercontent.com/a-/AOh14GguJYWZ8J093kfeDJs2aBZdFnEj6zgfFBM5GQb5WQ=s64",
      "userId": "02575995191767123543"
     },
     "user_tz": -60
    },
    "id": "9nmQUL8EDiJY"
   },
   "outputs": [],
   "source": [
    "def myFilter(y, dt, N_filter, fc, plot_t):\n",
    "    # Construire les filtres passe-haut et passe-bas\n",
    "    num_low, den_low = sig.butter(N_filter, fc, btype='lowpass', fs=1/dt)\n",
    "    num_high, den_high = sig.butter(N_filter, fc, btype='highpass', fs=1/dt)\n",
    "    # Appliquer les filtre au signal de température\n",
    "    y_low = sig.filtfilt(num_low, den_low, y)\n",
    "    y_high = sig.filtfilt(num_high, den_high, y)   \n",
    "    \n",
    "    # Afficher le signal d'origine et le signal filtré passe-bas\n",
    "    if plot_t:\n",
    "        plt.figure(2)\n",
    "        plt.plot(t, y_low, 'b')\n",
    "        plt.plot(t, y_high,'r')\n",
    "    return y_high, y_low"
   ]
  },
  {
   "cell_type": "markdown",
   "metadata": {
    "id": "26uN8rsVDiJZ"
   },
   "source": [
    "#### (9) Afficher et comparer les spectres du signal d'origine et du signal y_high. Augmentez maintenant l'ordre du filtre. \n",
    "#### Que constatez-vous vis-à-vis du signal temporel ? Et vis-à-vis du spectre ? "
   ]
  },
  {
   "cell_type": "code",
   "execution_count": 19,
   "metadata": {
    "colab": {
     "base_uri": "https://localhost:8080/",
     "height": 282
    },
    "collapsed": false,
    "executionInfo": {
     "elapsed": 346,
     "status": "ok",
     "timestamp": 1648027527476,
     "user": {
      "displayName": "Joana Frontera",
      "photoUrl": "https://lh3.googleusercontent.com/a-/AOh14GguJYWZ8J093kfeDJs2aBZdFnEj6zgfFBM5GQb5WQ=s64",
      "userId": "02575995191767123543"
     },
     "user_tz": -60
    },
    "id": "q8KPqnuongxN",
    "outputId": "2b290796-df4b-4705-827d-37ecee26ebf3"
   },
   "outputs": [
    {
     "data": {
      "text/plain": [
       "[<matplotlib.lines.Line2D at 0x7f2185d38190>]"
      ]
     },
     "execution_count": 19,
     "metadata": {},
     "output_type": "execute_result"
    },
    {
     "data": {
      "image/png": "[encoded data removed]",
      "text/plain": [
       "<Figure size 432x288 with 1 Axes>"
      ]
     },
     "metadata": {
      "needs_background": "light"
     },
     "output_type": "display_data"
    }
   ],
   "source": [
    "plt.plot(t,y)\n"
   ]
  },
  {
   "cell_type": "code",
   "execution_count": 20,
   "metadata": {
    "colab": {
     "base_uri": "https://localhost:8080/",
     "height": 1000
    },
    "collapsed": false,
    "executionInfo": {
     "elapsed": 865,
     "status": "ok",
     "timestamp": 1648027529542,
     "user": {
      "displayName": "Joana Frontera",
      "photoUrl": "https://lh3.googleusercontent.com/a-/AOh14GguJYWZ8J093kfeDJs2aBZdFnEj6zgfFBM5GQb5WQ=s64",
      "userId": "02575995191767123543"
     },
     "user_tz": -60
    },
    "id": "w85SAvRXDiJb",
    "outputId": "8374dff3-9451-4c6f-c005-44c959569e8a"
   },
   "outputs": [
    {
     "data": {
      "image/png": "[encoded data removed]",
      "text/plain": [
       "<Figure size 432x288 with 1 Axes>"
      ]
     },
     "metadata": {
      "needs_background": "light"
     },
     "output_type": "display_data"
    },
    {
     "data": {
      "image/png": "[encoded data removed]",
      "text/plain": [
       "<Figure size 432x288 with 1 Axes>"
      ]
     },
     "metadata": {
      "needs_background": "light"
     },
     "output_type": "display_data"
    },
    {
     "data": {
      "image/png": "[encoded data removed]",
      "text/plain": [
       "<Figure size 432x288 with 1 Axes>"
      ]
     },
     "metadata": {
      "needs_background": "light"
     },
     "output_type": "display_data"
    },
    {
     "data": {
      "image/png": "[encoded data removed]",
      "text/plain": [
       "<Figure size 432x288 with 1 Axes>"
      ]
     },
     "metadata": {
      "needs_background": "light"
     },
     "output_type": "display_data"
    },
    {
     "data": {
      "image/png": "[encoded data removed]",
      "text/plain": [
       "<Figure size 432x288 with 1 Axes>"
      ]
     },
     "metadata": {
      "needs_background": "light"
     },
     "output_type": "display_data"
    },
    {
     "data": {
      "image/png": "[encoded data removed]",
      "text/plain": [
       "<Figure size 432x288 with 1 Axes>"
      ]
     },
     "metadata": {
      "needs_background": "light"
     },
     "output_type": "display_data"
    },
    {
     "data": {
      "image/png": "[encoded data removed]",
      "text/plain": [
       "<Figure size 432x288 with 1 Axes>"
      ]
     },
     "metadata": {
      "needs_background": "light"
     },
     "output_type": "display_data"
    }
   ],
   "source": [
    "plt.close('all')\n",
    "\n",
    "# Affichons sur un premier graphe la TFD du signal temporel d'origine\n",
    "plt.figure(1)\n",
    "myFFT(y,dt,True)\n",
    "# Puis, le signal temporel sur un graphe séparé\n",
    "plt.figure(2)\n",
    "plt.plot(t,y)\n",
    "\n",
    "# Affichons maintenant les signaux filtrés pour plusieurs valeurs de N_filter\n",
    "fc = 1/30\n",
    "for N_filter in range(2,8,2):\n",
    "    y_high, y_low = myFilter(y,dt,N_filter,fc,True)\n",
    "    plt.figure(1)\n",
    "    myFFT(y_high,dt,True)"
   ]
  },
  {
   "cell_type": "markdown",
   "metadata": {
    "id": "Lrh54qRODiJc"
   },
   "source": [
    "En augmentant l'ordre du filtre, on améliore la séparation fréquentielle (gain plus proche de 1 dans la bande passante, plus proche de 0 dans la bande coupée), mais on détériore le transitoire dans le domaine temporel, notamment en raison de l'augmentation de la phase de la fonction de transfert. "
   ]
  },
  {
   "cell_type": "code",
   "execution_count": null,
   "metadata": {
    "collapsed": true,
    "id": "uzXFbCeZDiJi"
   },
   "outputs": [],
   "source": []
  },
  {
   "cell_type": "code",
   "execution_count": null,
   "metadata": {
    "collapsed": true,
    "id": "6Lrh7R33DiJj"
   },
   "outputs": [],
   "source": []
  }
 ],
 "metadata": {
  "anaconda-cloud": {},
  "colab": {
   "collapsed_sections": [],
   "name": "corrige.ipynb",
   "provenance": []
  },
  "kernelspec": {
   "display_name": "Python [conda root]",
   "language": "python",
   "name": "conda-root-py"
  },
  "language_info": {
   "codemirror_mode": {
    "name": "ipython",
    "version": 2
   },
   "file_extension": ".py",
   "mimetype": "text/x-python",
   "name": "python",
   "nbconvert_exporter": "python",
   "pygments_lexer": "ipython2",
   "version": "2.7.12"
  }
 },
 "nbformat": 4,
 "nbformat_minor": 0
}
