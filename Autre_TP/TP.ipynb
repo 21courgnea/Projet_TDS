{
 "cells": [
  {
   "cell_type": "markdown",
   "metadata": {},
   "source": [
    "# TP Synthèse harmonique\n",
    "\n",
    "Dans ce TP, on va étudier le spectre d'une même note de musique jouée par deux instruments : un piano et une flûte. On étudiera la répartition des harmoniques, et on tentera de re-synthétiser cette note. "
   ]
  },
  {
   "cell_type": "code",
   "execution_count": 1,
   "metadata": {},
   "outputs": [
    {
     "name": "stdout",
     "output_type": "stream",
     "text": [
      "Using matplotlib backend: MacOSX\n"
     ]
    }
   ],
   "source": [
    "import numpy as np\n",
    "import soundfile as sf\n",
    "import matplotlib.pyplot as plt\n",
    "%matplotlib auto"
   ]
  },
  {
   "cell_type": "markdown",
   "metadata": {},
   "source": [
    "### Question 1\n",
    "Importer les signaux audio. La fonction soundfile.read() permet d'importe les données audio (fichiers \\*.aif ou \\*.wav, ici). Si vous avez des problèmes avec cette fonction, vous pouvez importer directement le fichier \\*.npy à l'aide de la fonction np.load. La fréquence d'échantillonnage est de 44.1 kHz. "
   ]
  },
  {
   "cell_type": "code",
   "execution_count": null,
   "metadata": {},
   "outputs": [],
   "source": []
  },
  {
   "cell_type": "markdown",
   "metadata": {},
   "source": [
    "### Question 2 \n",
    "Calculer et afficher le demi-spectre du signal (jusqu'à la fréquence de Nyquist). Quelles étaient vraisemblablement les fréquences présentes dans le signal continu ? Quelle hypothèse est nécessaire pour pouvoir faire cette interprétation ?"
   ]
  },
  {
   "cell_type": "code",
   "execution_count": 222,
   "metadata": {},
   "outputs": [],
   "source": [
    "def myFFT(y, dt, plot = False):\n",
    "    \"\"\"\n",
    "    Computes and optionnaly plots the samples of the half-spectrum of a signal\n",
    "    sampled with a constant time step dt as a function of the continuous\n",
    "    frequencies\n",
    "\n",
    "    :param y: signal to be analyzed\n",
    "    :param dt: sampling time step of the signal, in seconds\n",
    "    :param plot: flag determining whether the function plots \n",
    "    the spectrum or not\n",
    "    \n",
    "    :type y: Numpy array\n",
    "    :type dt: float\n",
    "    :type plot: boolean\n",
    "\n",
    "    :return: vector of continuous frequencies (in rad/s), Fast Fourier Transform of the signal y\n",
    "    :rtype: Numpy arrays\n",
    "    \"\"\"\n",
    "    "
   ]
  },
  {
   "cell_type": "code",
   "execution_count": 74,
   "metadata": {},
   "outputs": [],
   "source": [
    "plt.figure()"
   ]
  },
  {
   "cell_type": "markdown",
   "metadata": {},
   "source": [
    "### Question 3\n",
    "Qu'est-ce qui, a première vue, sépare le spectre de la note jouée par le piano de celle jouée par la flûte ? Quelles autres différences ne sont pas visibles sur le spectre ? \n"
   ]
  },
  {
   "cell_type": "markdown",
   "metadata": {},
   "source": [
    "### Question 4\n",
    "On va réaliser un synthétiseur de notes de piano et de flûte, dans un premier temps assez simple. On va extraire du signal d'origine les amplitudes des pics principaux, et recréer des signaux à partir de sinusoïdes pures. Ecrire une fonction permettant d'extraire les N premiers maxima locaux d'un signal y(s). On pourra par exemple prendre d'abord le maximum absolu, puis exclure une bande de largeur $\\Delta s$ autour de ce pic, pour ne pas prendre des pics trop proches dûs à l'étalement fréquentiel des notes considérées, puis itérer. "
   ]
  },
  {
   "cell_type": "code",
   "execution_count": 223,
   "metadata": {},
   "outputs": [],
   "source": [
    "def peakDetection(y,s,ds,N):\n",
    "    \"\"\"\n",
    "    Computes the values of the local maxima of y(s) that are separated\n",
    "    by at least ds / 2, as well as the values of s where these peaks are reached.\n",
    "    \n",
    "    :param y: input signal\n",
    "    :param s: domain of definition of y\n",
    "    :param ds: defines the minimum separation between peaks.\n",
    "    :param N: number of peaks to be detected\n",
    "    \n",
    "    :type y: numpy array\n",
    "    :type s: numpy array\n",
    "    :type ds: float\n",
    "    :type N: int\n",
    "    \n",
    "    \n",
    "    :return sMax, yMax: location and value of the maxima\n",
    "    :rtype: numpy arrays of size N\n",
    "    \"\"\"\n",
    "    "
   ]
  },
  {
   "cell_type": "code",
   "execution_count": 225,
   "metadata": {},
   "outputs": [],
   "source": [
    "Npeaks = 5"
   ]
  },
  {
   "cell_type": "markdown",
   "metadata": {},
   "source": [
    "### Question 5\n",
    "Créer des signaux synthétiques de la note jouée par le piano et la flûte, uniquement à l'aide de sinusoïdes. On pourra se servir de la fonction sf.write() pour créer des signaux audio. La différence entre les signaux synthétiques et les signaux d'origine se trouve entièrement dans l'évolution du contenu fréquentiel au cours du temps. "
   ]
  },
  {
   "cell_type": "code",
   "execution_count": null,
   "metadata": {},
   "outputs": [],
   "source": []
  },
  {
   "cell_type": "code",
   "execution_count": null,
   "metadata": {},
   "outputs": [],
   "source": []
  },
  {
   "cell_type": "code",
   "execution_count": null,
   "metadata": {},
   "outputs": [],
   "source": []
  },
  {
   "cell_type": "code",
   "execution_count": null,
   "metadata": {},
   "outputs": [],
   "source": []
  }
 ],
 "metadata": {
  "kernelspec": {
   "display_name": "Python 3",
   "language": "python",
   "name": "python3"
  },
  "language_info": {
   "codemirror_mode": {
    "name": "ipython",
    "version": 3
   },
   "file_extension": ".py",
   "mimetype": "text/x-python",
   "name": "python",
   "nbconvert_exporter": "python",
   "pygments_lexer": "ipython3",
   "version": "3.8.5"
  }
 },
 "nbformat": 4,
 "nbformat_minor": 4
}
